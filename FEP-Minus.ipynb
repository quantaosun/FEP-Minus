{
  "nbformat": 4,
  "nbformat_minor": 0,
  "metadata": {
    "colab": {
      "name": "Run_Desmond_ligand_FEP_on_colab.ipynb",
      "provenance": [],
      "include_colab_link": true
    },
    "kernelspec": {
      "display_name": "Python 3",
      "name": "python3"
    },
    "accelerator": "GPU"
  },
  "cells": [
    {
      "cell_type": "markdown",
      "metadata": {
        "id": "view-in-github",
        "colab_type": "text"
      },
      "source": [
        "<a href=\"https://colab.research.google.com/github/quantaosun/FEP-Minus/blob/main/FEP-Minus.ipynb\" target=\"_parent\"><img src=\"https://colab.research.google.com/assets/colab-badge.svg\" alt=\"Open In Colab\"/></a>"
      ]
    },
    {
      "cell_type": "markdown",
      "source": [
        "[![Open In Colab](https://colab.research.google.com/assets/colab-badge.svg)](https://colab.research.google.com/github/quantaosun/Install_and_Run_Desmond_Academic_FEP_on_Colab/blob/main/Run_Desmond_ligand_FEP_on_colab.ipynb)"
      ],
      "metadata": {
        "id": "sjXuoWUfJauh"
      }
    },
    {
      "cell_type": "markdown",
      "source": [
        "# Please note this is not a stand-alone workflow, I only provide the way how to run it. You should figure out how to apply an Academic verison of Desmond, installed it on your local laptop or cluster that support GUI, to generate input files. Then upload another copy of Desmond install package as well as the input files here to finish this workflow.\n",
        "\n",
        "---\n",
        "\n",
        "**To comply with intellectual property rules, you need to apply your Desmond by yourself or prepare your input or by commercial Schrodinger FEP+， i.e.， the second excutable cell with ⚠️⚠️ below.**"
      ],
      "metadata": {
        "id": "Sc3L_9-42eDN"
      }
    },
    {
      "cell_type": "markdown",
      "source": [
        "\n",
        "Alternatively, this notebook could be used on any Cloud GPU platforms that Desmond supported, the only thing you have to make sure of is that, \n",
        "the 'USER' environment needs to be defined clearly on different platforms， change this in cell labeled with  ⚠️🌹 below. "
      ],
      "metadata": {
        "id": "tyAOAFcq-qYi"
      }
    },
    {
      "cell_type": "code",
      "metadata": {
        "id": "exdmwYE3YCTv",
        "cellView": "form",
        "colab": {
          "base_uri": "https://localhost:8080/"
        },
        "outputId": "153ea6f7-3474-4af9-e15a-1962f2e08ebd"
      },
      "source": [
        "#@title 🙋Mount to Google Drive \n",
        "from google.colab import drive\n",
        "drive.mount('/content/drive')"
      ],
      "execution_count": null,
      "outputs": [
        {
          "output_type": "stream",
          "name": "stdout",
          "text": [
            "Mounted at /content/drive\n"
          ]
        }
      ]
    },
    {
      "cell_type": "code",
      "metadata": {
        "id": "rrxqhjn99Z2i",
        "cellView": "form"
      },
      "source": [
        "#@title ⚠️⚠️  Compile Desmond, Please upload your licensed Academic Desmond here.\n",
        "! cp /content/drive/MyDrive/softwares/Desmond_Maestro_2021.1.tar /content/\n",
        "! tar -xvf Desmond_Maestro_2021.1.tar\n",
        "! mkdir /opt/scratch\n",
        "%cd /content/Desmond_Maestro_2021.1\n",
        "#! ./INSTALL\n",
        "!./INSTALL -b -d ../Desmond_Maestro_2021.1 -s /content/Desmond_Maestro_2021.1 -k /opt/scratch -t /content/Desmond_Maestro_2021.1 alldocs-v5.3-docs.tar.gz maestro-v12.7-Linux-x86_64.tar.gz desmond-v6.5-Linux-x86_64.tar.gz mmshare-v5.3-Linux-x86_64.tar.gz academic_license.lic \n",
        "%env SCHRODINGER /content/Desmond_Maestro_2021.1"
      ],
      "execution_count": null,
      "outputs": []
    },
    {
      "cell_type": "code",
      "metadata": {
        "id": "LEqKpCLxqQCq",
        "cellView": "form",
        "outputId": "6c2dabf8-26b5-4007-fb8a-85dbfdacb744",
        "colab": {
          "base_uri": "https://localhost:8080/"
        }
      },
      "source": [
        "#@title ⚠️🌹 Set Up Environment Variable, THIS IS EXTREMELY MPORTANT, don't change anything if you can not understand.\n",
        "#!printenv\n",
        "!echo $HOME\n",
        "%env USER root"
      ],
      "execution_count": null,
      "outputs": [
        {
          "output_type": "stream",
          "name": "stdout",
          "text": [
            "/root\n",
            "env: USER=root\n"
          ]
        }
      ]
    },
    {
      "cell_type": "code",
      "metadata": {
        "id": "AguqPUj-0aZB",
        "cellView": "form"
      },
      "source": [
        "#@title 🙋 Output GPU Version\n",
        "!nvidia-smi"
      ],
      "execution_count": null,
      "outputs": []
    },
    {
      "cell_type": "code",
      "metadata": {
        "id": "mjVtdx32TROw",
        "cellView": "form"
      },
      "source": [
        "#@title 🙋 Output CPU numbers\n",
        "!lscpu"
      ],
      "execution_count": null,
      "outputs": []
    },
    {
      "cell_type": "code",
      "source": [
        "#@title Set up schrodinger.hosts file, adjust the CPU number as per the output above. You don't have to change GPU name, it doesn't really matter.\n",
        "com_file = open('schrodinger.hosts','w')\n",
        "com_file.write('''\n",
        "name:         Academic\n",
        "host:        localhost\n",
        "schrodinger: /opt/schrodinger-2021\n",
        "processors:  12\n",
        "tmpdir:      /opt/scratch\n",
        "gpgpu:       0, Tesla T4  \n",
        "''')\n",
        "com_file.close()"
      ],
      "metadata": {
        "cellView": "form",
        "id": "EzphJiS4GcmX"
      },
      "execution_count": null,
      "outputs": []
    },
    {
      "cell_type": "code",
      "metadata": {
        "id": "EbDoj950Wv1T",
        "cellView": "form"
      },
      "source": [
        "#@title  🙋 Input name, you decide where you upload to your drive.\n",
        "FEP_tarball_path = \"/content/drive/MyDrive/ligand_fep.tar.gz\" #@param {type:\"string\"}\n",
        "%cd /content/\n",
        "!tar -xvf '{FEP_tarball_path}'\n",
        "%cd ligand_fep_2"
      ],
      "execution_count": null,
      "outputs": []
    },
    {
      "cell_type": "code",
      "source": [
        "%cd /content/drive/MyDrive/ligand_fep_1"
      ],
      "metadata": {
        "id": "7N2Z6ElzvIUl",
        "outputId": "4f1f20c2-07f6-43da-a19b-983b71ef0f53",
        "colab": {
          "base_uri": "https://localhost:8080/"
        }
      },
      "execution_count": null,
      "outputs": [
        {
          "output_type": "stream",
          "name": "stdout",
          "text": [
            "/content/drive/MyDrive/ligand_fep_2008_2009_srpk1\n"
          ]
        }
      ]
    },
    {
      "cell_type": "code",
      "metadata": {
        "cellView": "form",
        "id": "fbVlLDbOQr9l",
        "outputId": "c70f4158-aaf5-4ee6-86d4-27bb2ec7bef5",
        "colab": {
          "base_uri": "https://localhost:8080/"
        }
      },
      "source": [
        "#@title 🙋 🐶🐶 Start the simulation in a sequencial manner.Complex+Solvent\n",
        "!chmod +x ligand_fep_1.sh\n",
        "!./ligand_fep_1.sh"
      ],
      "execution_count": null,
      "outputs": [
        {
          "output_type": "stream",
          "name": "stdout",
          "text": [
            "WARNING: You did not specify for '-maxjob'. Remember its default value is 1.\n",
            "WARNING: Launching jobs as root is strongly discouraged. Proceeding anyway...\n",
            "JobId: 11bd6d3619df-0-62a2bff7\n",
            "\n"
          ]
        }
      ]
    },
    {
      "cell_type": "code",
      "metadata": {
        "id": "Yblq_6PUW1Rv",
        "colab": {
          "base_uri": "https://localhost:8080/"
        },
        "outputId": "b6bf7c1c-a678-4ab2-9445-575120b02c6b",
        "cellView": "form"
      },
      "source": [
        "#@title 🙋 👀 😊😊 This is where you see the magic numbers of delt delt G\n",
        "!tail -30 ligand_fep_1_multisim.log"
      ],
      "execution_count": null,
      "outputs": [
        {
          "output_type": "stream",
          "name": "stdout",
          "text": [
            "tail: cannot open 'ligand_fep_1_multisim.log' for reading: No such file or directory\n"
          ]
        }
      ]
    },
    {
      "cell_type": "code",
      "metadata": {
        "id": "_qOPwgNxWv6v",
        "colab": {
          "base_uri": "https://localhost:8080/"
        },
        "outputId": "c01235e4-c511-46ea-d2d4-de825e80267e",
        "cellView": "form"
      },
      "source": [
        "#@title 🙋 Monitor the simulation-sub jobs, this is optional\n",
        "!tail -30 /opt/scratch/root/ligand_fep_1_complex/ligand_fep_1_complex_multisim.log\n",
        "!tail -30 /opt/scratch/root/ligand_fep_1_solvent/ligand_fep_1_solvent_multisim.log"
      ],
      "execution_count": null,
      "outputs": [
        {
          "output_type": "stream",
          "name": "stdout",
          "text": [
            "tail: cannot open '/opt/scratch/root/ligand_fep_1_complex/ligand_fep_1_complex_multisim.log' for reading: No such file or directory\n",
            "tail: cannot open '/opt/scratch/root/ligand_fep_1_solvent/ligand_fep_1_solvent_multisim.log' for reading: No such file or directory\n"
          ]
        }
      ]
    },
    {
      "cell_type": "markdown",
      "source": [
        "As any other methods, FEP has its limitation as well. There are three situations you shouldn't use this methodology\n",
        "\n",
        "1.   The binding pocket is highly flexible or changes a lot upon binindg to ligand.\n",
        "2.   The two ligands share a similarity less than 60%. \n",
        "\n",
        "3. The two ligands binds to the pocket in quite different modes, even they share greater than 60% chemical similarity.\n",
        "\n",
        "Note 60% is my personal view of a similarity boundary, you could argue it could be 70% or 50%.\n",
        "\n"
      ],
      "metadata": {
        "id": "-0UaYZcvHy7J"
      }
    }
  ]
}